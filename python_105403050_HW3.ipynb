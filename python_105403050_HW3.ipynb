{
 "cells": [
  {
   "cell_type": "markdown",
   "metadata": {},
   "source": [
    "##利用Never Enough歌詞練習python的list method 與 list comprehension 資料處理"
   ]
  },
  {
   "cell_type": "code",
   "execution_count": 1,
   "metadata": {},
   "outputs": [
    {
     "name": "stdout",
     "output_type": "stream",
     "text": [
      "[\"I'm trying to hold my breath\", 'Let it stay this way', \"Can't let this moment end\", 'You set off a dream with me', 'Getting louder now', 'Can you hear it echoing?', 'Take my hand', 'Will you share this with me?', \"'Cause darling without you\", 'All the shine of a thousand spotlights', 'All the stars we steal from the nightsky', 'Will never be enough', 'Never be enough', 'Towers of gold are still too little', \"These hands could hold the world but it'll\", 'Never be enough', 'For me', 'Never, never', 'Never, for me', 'Never enough', 'For me']\n"
     ]
    }
   ],
   "source": [
    "lyric = [\"I'm trying to hold my breath\",\n",
    "\"Let it stay this way\",\n",
    "\"Can't let this moment end\",\n",
    "\"You set off a dream with me\",\n",
    "\"Getting louder now\",\n",
    "\"Can you hear it echoing?\",\n",
    "\"Take my hand\",\n",
    "\"Will you share this with me?\",\n",
    "\"'Cause darling without you\",\n",
    "\"All the shine of a thousand spotlights\",\n",
    "\"All the stars we steal from the nightsky\",\n",
    "\"Will never be enough\",\n",
    "\"Never be enough\",\n",
    "\"Towers of gold are still too little\",\n",
    "\"These hands could hold the world but it'll\",\n",
    "\"Never be enough\", \"For me\",\n",
    "\"Never, never\", \"Never, for me\",\n",
    "\"Never enough\", \"For me\"]\n",
    "print(lyric)"
   ]
  },
  {
   "cell_type": "markdown",
   "metadata": {},
   "source": [
    "# (1) List’s Methods : 請寫⼀個 Python 函式 (function) — “ neverEnough ”，利用上列 lyric 物件中的字串元素，輸出成原本的電影插曲格式如下:\n",
    "[ NOTE ] : 請注意 最後幾⾏歌詞的重複部份 !"
   ]
  },
  {
   "cell_type": "raw",
   "metadata": {},
   "source": [
    "I'm trying to hold my breath\n",
    "Let it stay this way\n",
    "Can't let this moment end\n",
    "You set off a dream with me Getting louder now\n",
    "Can you hear it echoing? Take my hand\n",
    "Will you share this with me?\n",
    "'Cause darling without you\n",
    "All the shine of a thousand spotlights\n",
    "All the stars we steal from the nightsky Will never be enough\n",
    "Never be enough\n",
    "Towers of gold are still too little\n",
    "These hands could hold the world but it'll\n",
    "Never be enough\n",
    "Never be enough\n",
    "For me\n",
    "Never, never\n",
    "Never, never\n",
    "Never, for me\n",
    "Never enough\n",
    "Never enough\n",
    "Never enough\n",
    "For me\n",
    "For me\n",
    "For me\n",
    "For me"
   ]
  },
  {
   "cell_type": "code",
   "execution_count": 16,
   "metadata": {},
   "outputs": [
    {
     "name": "stdout",
     "output_type": "stream",
     "text": [
      "I'm trying to hold my breath /nLet it stay this way /nCan't let this moment end /nYou set off a dream with me Getting louder now Can you hear it echoing? Take my hand Will you share this with me? 'Cause darling without you All the shine of a thousand spotlights All the stars we steal from the nightsky Will never be enough /nNever be enough Towers of gold are still too little These hands could hold the world but it'll /nNever be enough /nFor me Never, never /nNever, for me /nNever enough For me\n"
     ]
    }
   ],
   "source": [
    "def neverEnough(lyric):\n",
    "    lyric[3:5], lyric[4:6], lyric[8:10] = [' '.join(lyric[3:5])], [' '.join(lyric[5:7])], [' '.join(lyric[10:12])]\n",
    "   # lyric.insert(12, lyric[12])\n",
    "    #lyric.insert(15, lyric[15])\n",
    "    #for x in range(2):\n",
    "       # lyric.insert(18, lyric[18])\n",
    "    #for x in range(3):\n",
    "      #  lyric.insert(21, lyric[21])\n",
    "    return lyric\n",
    "\n",
    "new_lyric = neverEnough(lyric)\n",
    "print(' /n'.join(map(str, new_lyric)))\n",
    "print('-------- << Never Enough >> ---------\\n%s' % '\\n'.join(map(str, a)))"
   ]
  },
  {
   "cell_type": "markdown",
   "metadata": {},
   "source": [
    "# (2) WordCount : 請依據上列輸出的完整歌詞進⾏斷字，計算每個單字個別出現次數，並排序輸出其結果 (參考 [ 提示 ] 部份)。"
   ]
  },
  {
   "cell_type": "code",
   "execution_count": null,
   "metadata": {},
   "outputs": [],
   "source": []
  },
  {
   "cell_type": "code",
   "execution_count": 28,
   "metadata": {},
   "outputs": [
    {
     "name": "stdout",
     "output_type": "stream",
     "text": [
      "--- << Word-Counting the lyric of Never Enough >> ---\n",
      "i'm          1\n",
      "trying       1\n",
      "to           1\n",
      "hold         2\n",
      "my           2\n",
      "breath       1\n",
      "let          2\n",
      "it           2\n",
      "stay         1\n",
      "this         3\n",
      "way          1\n",
      "can't        1\n",
      "moment       1\n",
      "end          1\n",
      "you          4\n",
      "set          1\n",
      "off          1\n",
      "a            2\n",
      "dream        1\n",
      "with         2\n",
      "me           8\n",
      "getting      1\n",
      "louder       1\n",
      "now          1\n",
      "can          1\n",
      "hear         1\n",
      "echoing      1\n",
      "take         1\n",
      "hand         1\n",
      "will         2\n",
      "share        1\n",
      "'cause       1\n",
      "darling      1\n",
      "without      1\n",
      "all          2\n",
      "the          4\n",
      "shine        1\n",
      "of           2\n",
      "thousand     1\n",
      "spotlights   1\n",
      "stars        1\n",
      "we           1\n",
      "steal        1\n",
      "from         1\n",
      "nightsky     1\n",
      "never       12\n",
      "be           4\n",
      "enough       7\n",
      "towers       1\n",
      "gold         1\n",
      "are          1\n",
      "still        1\n",
      "too          1\n",
      "little       1\n",
      "these        1\n",
      "hands        1\n",
      "could        1\n",
      "world        1\n",
      "but          1\n",
      "it'll        1\n",
      "for          6\n"
     ]
    }
   ],
   "source": [
    "#string = print(new_lyric[x]) for x in range(len(new_lyric))\n",
    "string = ' '.join(map(str, new_lyric))\n",
    "for char in '?,\\n':\n",
    "    string = string.replace(char,'')\n",
    "string = string.lower()\n",
    "word_list = string.split()\n",
    "\n",
    "from collections import Counter\n",
    "Counter(word_list).most_common()\n",
    "d = {}\n",
    "for word in word_list: \n",
    "    d[word] = d.get(word, 0) + 1\n",
    "    \n",
    "key = d.keys()\n",
    "values = d.values()\n",
    "key_list = list(key)\n",
    "values_list = list(values)\n",
    "print('--- << Word-Counting the lyric of Never Enough >> ---')\n",
    "for x in range(len(list(key))):\n",
    "    print(\"%-10s%4d\" % (key_list[x], values_list[x]))\n"
   ]
  },
  {
   "cell_type": "markdown",
   "metadata": {},
   "source": [
    "# (3) 請利用 List Comprehension, Set Comprehension, … 等語法，將上述程式精簡至 10 行敘述以內 ( 至少也要精簡至 15 行以內 ) 完成工作。"
   ]
  },
  {
   "cell_type": "code",
   "execution_count": 17,
   "metadata": {},
   "outputs": [],
   "source": [
    "def neverEnough(lyric):\n",
    "    lyric[3:5], lyric[4:6], lyric[8:10] = [' '.join(lyric[3:5])], [' '.join(lyric[5:7])], [' '.join(lyric[10:12])]\n",
    "    lyric.insert(12, lyric[12]),lyric.insert(15, lyric[15]),[lyric.insert(18, lyric[18]) for x in range(2)],[lyric.insert(21, lyric[21]) for x in range(3)]   \n",
    "    return lyric"
   ]
  },
  {
   "cell_type": "code",
   "execution_count": 31,
   "metadata": {},
   "outputs": [
    {
     "name": "stdout",
     "output_type": "stream",
     "text": [
      "--- << Word-Counting the lyric of Never Enough >> ---\n",
      "i'm          1\n",
      "trying       1\n",
      "to           1\n",
      "hold         2\n",
      "my           2\n",
      "breath       1\n",
      "let          2\n",
      "it           2\n",
      "stay         1\n",
      "this         3\n",
      "way          1\n",
      "can't        1\n",
      "moment       1\n",
      "end          1\n",
      "you          4\n",
      "set          1\n",
      "off          1\n",
      "a            2\n",
      "dream        1\n",
      "with         2\n",
      "me           8\n",
      "getting      1\n",
      "louder       1\n",
      "now          1\n",
      "can          1\n",
      "hear         1\n",
      "echoing      1\n",
      "take         1\n",
      "hand         1\n",
      "will         2\n",
      "share        1\n",
      "'cause       1\n",
      "darling      1\n",
      "without      1\n",
      "all          2\n",
      "the          4\n",
      "shine        1\n",
      "of           2\n",
      "thousand     1\n",
      "spotlights   1\n",
      "stars        1\n",
      "we           1\n",
      "steal        1\n",
      "from         1\n",
      "nightsky     1\n",
      "never       12\n",
      "be           4\n",
      "enough       7\n",
      "towers       1\n",
      "gold         1\n",
      "are          1\n",
      "still        1\n",
      "too          1\n",
      "little       1\n",
      "these        1\n",
      "hands        1\n",
      "could        1\n",
      "world        1\n",
      "but          1\n",
      "it'll        1\n",
      "for          6\n"
     ]
    }
   ],
   "source": [
    "string = ' '.join(map(str, neverEnough(lyric)))\n",
    "for char in '?,':\n",
    "    string = string.replace(char,'').lower()\n",
    "from collections import Counter\n",
    "word_list, a, d, key, values= string.split(), Counter(word_list).most_common(), { word : d.get(word, 0) for word in word_list }, d.keys(), d.values()\n",
    "print('--- << Word-Counting the lyric of Never Enough >> ---')\n",
    "for x in range(len(list(key))):\n",
    "    print(\"%-10s%4d\" % (list(key)[x], list(values)[x]))"
   ]
  },
  {
   "cell_type": "code",
   "execution_count": null,
   "metadata": {},
   "outputs": [],
   "source": []
  },
  {
   "cell_type": "code",
   "execution_count": null,
   "metadata": {},
   "outputs": [],
   "source": []
  }
 ],
 "metadata": {
  "kernelspec": {
   "display_name": "Python 3",
   "language": "python",
   "name": "python3"
  },
  "language_info": {
   "codemirror_mode": {
    "name": "ipython",
    "version": 3
   },
   "file_extension": ".py",
   "mimetype": "text/x-python",
   "name": "python",
   "nbconvert_exporter": "python",
   "pygments_lexer": "ipython3",
   "version": "3.6.8"
  }
 },
 "nbformat": 4,
 "nbformat_minor": 2
}
