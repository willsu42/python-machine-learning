{
 "cells": [
  {
   "cell_type": "code",
   "execution_count": 1,
   "metadata": {},
   "outputs": [
    {
     "name": "stdout",
     "output_type": "stream",
     "text": [
      "game over\n"
     ]
    }
   ],
   "source": [
    "# %load training.py\n",
    "#!/usr/bin/env python\n",
    "\n",
    "# In[1]:\n",
    "\n",
    "\n",
    "from maze_env import Maze\n",
    "#from RL_brain import QLearningTable\n",
    "from RL_brain import SarsaTable\n",
    "def update():\n",
    "    for episode in range(20):\n",
    "        # initial observation\n",
    "        observation = env.reset()\n",
    "\n",
    "        ## RL choose action based on observation  ##\n",
    "        action = RL.choose_action(str(observation))\n",
    "        \n",
    "        while True:\n",
    "            # fresh env\n",
    "            env.render()\n",
    "\n",
    "            # RL choose action based on observation\n",
    "            action = RL.choose_action(str(observation))\n",
    "\n",
    "            # RL take action and get next observation and reward\n",
    "            observation_, reward, done = env.step(action)\n",
    "\n",
    "            ## RL choose action based on next observation#\n",
    "            action_ = RL.choose_action(str(observation_))\n",
    "            ## RL learn from this transition (s, a, r, s, a) ==> Sarsa ##\n",
    "            RL.learn(str(observation), action, reward, str(observation_),action_)\n",
    "\n",
    "            # swap observation \n",
    "            observation = observation_\n",
    "            action = action_\n",
    "\n",
    "            ## swap action ##\n",
    "\n",
    "            # break while loop when end of this episode\n",
    "            if done:\n",
    "                break\n",
    "\n",
    "    # end of game\n",
    "    print('game over')\n",
    "    env.destroy()\n",
    "\n",
    "if __name__ == \"__main__\":\n",
    "    env = Maze()\n",
    "    RL = SarsaTable(actions=list(range(env.n_actions)))\n",
    "    env.after(100, update)\n",
    "    env.mainloop()"
   ]
  },
  {
   "cell_type": "code",
   "execution_count": null,
   "metadata": {},
   "outputs": [],
   "source": []
  }
 ],
 "metadata": {
  "kernelspec": {
   "display_name": "Python 3",
   "language": "python",
   "name": "python3"
  },
  "language_info": {
   "codemirror_mode": {
    "name": "ipython",
    "version": 3
   },
   "file_extension": ".py",
   "mimetype": "text/x-python",
   "name": "python",
   "nbconvert_exporter": "python",
   "pygments_lexer": "ipython3",
   "version": "3.7.1"
  }
 },
 "nbformat": 4,
 "nbformat_minor": 2
}
