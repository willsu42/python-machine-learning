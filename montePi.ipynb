{
 "cells": [
  {
   "cell_type": "code",
   "execution_count": 6,
   "metadata": {},
   "outputs": [
    {
     "name": "stdout",
     "output_type": "stream",
     "text": [
      "點數50000000\n",
      "計算中\n",
      "3.141658\n",
      "執行時間是：21.701863秒\n"
     ]
    }
   ],
   "source": [
    "from random import random\n",
    "from time import perf_counter\n",
    "from math import sqrt\n",
    "\n",
    "Points = int(input(\"點數\"))\n",
    "cnt = 0\n",
    "\n",
    "start = perf_counter()\n",
    "print(\"計算中\")\n",
    "for i in range(Points):\n",
    "    x,y = random(),random()\n",
    "    dis =sqrt( x**2 + y**2 )\n",
    "    if dis<=1.0:\n",
    "        cnt+=1\n",
    "        \n",
    "pi = 4*cnt/Points\n",
    "print(\"{:.6f}\".format(pi))\n",
    "print(\"執行時間是：{:.6f}秒\".format(perf_counter()-start))\n",
    "    "
   ]
  },
  {
   "cell_type": "code",
   "execution_count": 7,
   "metadata": {},
   "outputs": [
    {
     "name": "stdout",
     "output_type": "stream",
     "text": [
      "0.827292810125752\n"
     ]
    }
   ],
   "source": [
    "x=random()\n",
    "print(x)"
   ]
  },
  {
   "cell_type": "code",
   "execution_count": 1,
   "metadata": {},
   "outputs": [
    {
     "name": "stdout",
     "output_type": "stream",
     "text": [
      "點數50000000\n",
      "計算中\n",
      "3.141357\n",
      "執行時間是：18.960533秒\n"
     ]
    }
   ],
   "source": [
    "from random import random\n",
    "from time import perf_counter\n",
    "from math import sqrt\n",
    "\n",
    "Points = int(input(\"點數\"))\n",
    "cnt = 0\n",
    "\n",
    "start = perf_counter()\n",
    "print(\"計算中\")\n",
    "for i in range(Points):\n",
    "    x,y = random(),random()\n",
    "    dis = x**2 + y**2 \n",
    "    if dis<=1.0:\n",
    "        cnt+=1\n",
    "        \n",
    "pi = 4*cnt/Points\n",
    "print(\"{:.6f}\".format(pi))\n",
    "print(\"執行時間是：{:.6f}秒\".format(perf_counter()-start))\n",
    "    "
   ]
  },
  {
   "cell_type": "code",
   "execution_count": 6,
   "metadata": {},
   "outputs": [
    {
     "data": {
      "text/plain": [
       "array([0.95706963, 0.98972043, 0.13791334, ..., 0.40182252, 0.73371095,\n",
       "       0.96314442])"
      ]
     },
     "execution_count": 6,
     "metadata": {},
     "output_type": "execute_result"
    }
   ],
   "source": [
    "import numpy as np\n",
    "np.random.random(Points)"
   ]
  },
  {
   "cell_type": "code",
   "execution_count": 11,
   "metadata": {},
   "outputs": [
    {
     "name": "stdout",
     "output_type": "stream",
     "text": [
      "點數50000000\n",
      "計算中\n",
      "3.141361\n",
      "執行時間是：1.713553秒\n"
     ]
    }
   ],
   "source": [
    "from random import random\n",
    "from time import perf_counter\n",
    "from math import sqrt\n",
    "import numpy as np\n",
    "\n",
    "Points = int(input(\"點數\"))\n",
    "cnt = 0\n",
    "print(\"計算中\")\n",
    "start = perf_counter()\n",
    "\n",
    "#x=np.random.random(Points)\n",
    "#y=np.random.random(Points) \n",
    "z = (np.random.random(Points)**2 + np.random.random(Points)**2 )<1.0\n",
    "cnt = np.size(np.where(z==True))\n",
    "pi = 4*cnt/Points\n",
    "print(\"{:.6f}\".format(pi))\n",
    "print(\"執行時間是：{:.6f}秒\".format(perf_counter()-start))\n"
   ]
  },
  {
   "cell_type": "code",
   "execution_count": null,
   "metadata": {},
   "outputs": [],
   "source": [
    "pi=4*np.mean(Dis[:])"
   ]
  }
 ],
 "metadata": {
  "kernelspec": {
   "display_name": "Python 3",
   "language": "python",
   "name": "python3"
  },
  "language_info": {
   "codemirror_mode": {
    "name": "ipython",
    "version": 3
   },
   "file_extension": ".py",
   "mimetype": "text/x-python",
   "name": "python",
   "nbconvert_exporter": "python",
   "pygments_lexer": "ipython3",
   "version": "3.7.1"
  }
 },
 "nbformat": 4,
 "nbformat_minor": 2
}
